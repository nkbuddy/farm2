{
 "cells": [
  {
   "cell_type": "code",
   "execution_count": 1,
   "metadata": {},
   "outputs": [],
   "source": [
    "from pydantic import BaseModel, ValidationError, validator\n",
    "\n",
    "\n",
    "class UserModel(BaseModel):\n",
    "    name: str\n",
    "    username: str\n",
    "    password1: str\n",
    "    password2: str\n",
    "\n",
    "    @validator('name')\n",
    "    def name_must_contain_space(cls, v):\n",
    "        if ' ' not in v:\n",
    "            raise ValueError('must contain a space')\n",
    "        return v.title()\n",
    "\n",
    "    @validator('password2')\n",
    "    def passwords_match(cls, v, values, **kwargs):\n",
    "        if 'password1' in values and v != values['password1']:\n",
    "            raise ValueError('passwords do not match')\n",
    "        return v\n",
    "\n",
    "    @validator('username')\n",
    "    def username_alphanumeric(cls, v):\n",
    "        assert v.isalnum(), 'must be alphanumeric'\n",
    "        return v"
   ]
  },
  {
   "cell_type": "code",
   "execution_count": 2,
   "metadata": {},
   "outputs": [
    {
     "name": "stdout",
     "output_type": "stream",
     "text": [
      "name='Samuel Colvin' username='scolvin' password1='zxcvbn' password2='zxcvbn'\n"
     ]
    }
   ],
   "source": [
    "user = UserModel(\n",
    "    name='samuel colvin',\n",
    "    username='scolvin',\n",
    "    password1='zxcvbn',\n",
    "    password2='zxcvbn',\n",
    ")\n",
    "print(user)"
   ]
  },
  {
   "cell_type": "code",
   "execution_count": 3,
   "metadata": {},
   "outputs": [
    {
     "name": "stdout",
     "output_type": "stream",
     "text": [
      "2 validation errors for UserModel\n",
      "name\n",
      "  must contain a space (type=value_error)\n",
      "password2\n",
      "  passwords do not match (type=value_error)\n"
     ]
    }
   ],
   "source": [
    "try:\n",
    "    UserModel(\n",
    "        name='samuel',\n",
    "        username='scolvin',\n",
    "        password1='zxcvbn',\n",
    "        password2='zxcvbn2',\n",
    "    )\n",
    "except ValidationError as e:\n",
    "    print(e)"
   ]
  },
  {
   "cell_type": "code",
   "execution_count": 18,
   "metadata": {},
   "outputs": [],
   "source": [
    "class userSchema(BaseModel):\n",
    "    username: str"
   ]
  },
  {
   "cell_type": "code",
   "execution_count": 19,
   "metadata": {},
   "outputs": [],
   "source": [
    "\n",
    "try:\n",
    "    userSchema(\n",
    "        username='samuel ',\n",
    "    )\n",
    "except ValidationError as e:\n",
    "    print(e)"
   ]
  },
  {
   "cell_type": "code",
   "execution_count": 22,
   "metadata": {},
   "outputs": [
    {
     "data": {
      "text/plain": [
       "userSchema(username='sam')"
      ]
     },
     "execution_count": 22,
     "metadata": {},
     "output_type": "execute_result"
    }
   ],
   "source": [
    "userSchema(\n",
    "    username='sam'\n",
    ")"
   ]
  },
  {
   "cell_type": "code",
   "execution_count": 23,
   "metadata": {},
   "outputs": [],
   "source": [
    "from fastapi import FastAPI, HTTPException\n",
    "\n",
    "from model import exerciseSchema, userSchema\n",
    "\n",
    "from database import (\n",
    "    fetch_one_exercises,\n",
    "    fetch_one_users,\n",
    "    fetch_all_exercises,\n",
    "    fetch_all_users,\n",
    "    create_exercises,\n",
    "    create_users,\n",
    "    update_exercise,\n",
    "    update_user,\n",
    "    remove_exercise,\n",
    "    remove_user,\n",
    ")\n",
    "\n",
    "# an HTTP-specific exception class  to generate exception information\n",
    "\n",
    "from fastapi.middleware.cors import CORSMiddleware\n",
    "app = FastAPI()\n",
    "\n",
    "origins = [\n",
    "    \"http://localhost:3000\",\n",
    "]\n",
    "\n",
    "# what is a middleware?\n",
    "# software that acts as a bridge between an operating system or database and applications, especially on a network.\n",
    "\n",
    "app.add_middleware(\n",
    "    CORSMiddleware,\n",
    "    allow_origins=origins,\n",
    "    allow_credentials=True,\n",
    "    allow_methods=[\"*\"],\n",
    "    allow_headers=[\"*\"],\n",
    ")"
   ]
  },
  {
   "cell_type": "code",
   "execution_count": 27,
   "metadata": {},
   "outputs": [
    {
     "data": {
      "text/plain": [
       "<function __main__.get_exercises()>"
      ]
     },
     "execution_count": 27,
     "metadata": {},
     "output_type": "execute_result"
    }
   ],
   "source": [
    "def get_exercises():\n",
    "    response = fetch_all_exercises()\n",
    "    return response\n",
    "get_exercises"
   ]
  },
  {
   "cell_type": "code",
   "execution_count": null,
   "metadata": {},
   "outputs": [],
   "source": []
  }
 ],
 "metadata": {
  "kernelspec": {
   "display_name": "Python 3.8.5 ('learn-env')",
   "language": "python",
   "name": "python3"
  },
  "language_info": {
   "codemirror_mode": {
    "name": "ipython",
    "version": 3
   },
   "file_extension": ".py",
   "mimetype": "text/x-python",
   "name": "python",
   "nbconvert_exporter": "python",
   "pygments_lexer": "ipython3",
   "version": "3.8.5"
  },
  "orig_nbformat": 4,
  "vscode": {
   "interpreter": {
    "hash": "2700375e02ad74d7fa19bf39b9bbaacee623ff18e8d83a1c706494d7922e527a"
   }
  }
 },
 "nbformat": 4,
 "nbformat_minor": 2
}
